{
 "cells": [
  {
   "cell_type": "markdown",
   "id": "16120ee9",
   "metadata": {},
   "source": [
    "- title: Sorting DNA sequences by length\n",
    "- author: Martin\n",
    "- date: 2021-05-11\n",
    "- category: article\n",
    "- tags: python, programming, DNA"
   ]
  },
  {
   "cell_type": "markdown",
   "id": "a439a1a9",
   "metadata": {},
   "source": [
    "# Sorting DNA sequences by length using Python\n",
    "\n",
    "My web server referrer logs tell me that quite a few people are finding this site by searching for some variation on \"how to sort DNA sequences by length using Python\", so I thought I would devote a whole post to the topic. It's a problem that seems quite trivial at first, but in order to solve it we have to learn a little bit about how the built in sorting tools work.\n",
    "\n",
    "\n",
    "Let's start off by defining a few DNA sequences to play with:"
   ]
  },
  {
   "cell_type": "code",
   "execution_count": 1,
   "id": "edee9485",
   "metadata": {},
   "outputs": [],
   "source": [
    "seqs = [\n",
    " 'ATAGCTGATCGTAGCTACGTACGATCG',\n",
    " 'CATCGTACATGC',\n",
    " 'TATGTGT',\n",
    " 'GCTGATCGTGACTGTAC',\n",
    " 'ACTGT'\n",
    "]"
   ]
  },
  {
   "cell_type": "markdown",
   "id": "af817d55",
   "metadata": {},
   "source": [
    "Python has two built-in sorting tools which behave in very similar ways. There's a `sorted()` function, which returns a sorted copy of the list that's given as the argument:"
   ]
  },
  {
   "cell_type": "code",
   "execution_count": 2,
   "id": "6378675f",
   "metadata": {},
   "outputs": [
    {
     "data": {
      "text/plain": [
       "['ACTGT',\n",
       " 'ATAGCTGATCGTAGCTACGTACGATCG',\n",
       " 'CATCGTACATGC',\n",
       " 'GCTGATCGTGACTGTAC',\n",
       " 'TATGTGT']"
      ]
     },
     "execution_count": 2,
     "metadata": {},
     "output_type": "execute_result"
    }
   ],
   "source": [
    "sorted(seqs)"
   ]
  },
  {
   "cell_type": "markdown",
   "id": "2266fafa",
   "metadata": {},
   "source": [
    "And a `sort()`method that belongs to the `list` type, which modifies the list in place and returns `None:"
   ]
  },
  {
   "cell_type": "code",
   "execution_count": 3,
   "id": "b6b8ec46",
   "metadata": {},
   "outputs": [
    {
     "name": "stdout",
     "output_type": "stream",
     "text": [
      "['ATAGCTGATCGTAGCTACGTACGATCG', 'CATCGTACATGC', 'TATGTGT', 'GCTGATCGTGACTGTAC', 'ACTGT']\n",
      "None\n",
      "['ACTGT', 'ATAGCTGATCGTAGCTACGTACGATCG', 'CATCGTACATGC', 'GCTGATCGTGACTGTAC', 'TATGTGT']\n"
     ]
    }
   ],
   "source": [
    "print(seqs)\n",
    "print(seqs.sort())\n",
    "print(seqs)"
   ]
  },
  {
   "cell_type": "markdown",
   "id": "cdb4f523",
   "metadata": {},
   "source": [
    "As we can see from the code examples and output above, both `sort()` and `sorted()` use alphabetical order by default, so in order to get our DNA sequences sorted by length, we'll have to figure out a way of expressing our sorting criteria.\n",
    "\n",
    "Before we start talking about custom sorting criteria, a quick diversion: for the purposes of this particular problem, it doesn't matter whether we use `sorted()` or `list.sort()` to sort our DNA sequences, because we already have them stored in a list. For real life problems, however, `sorted()` is more flexible because it's capable of sorting not just lists, but any iterable data type.`list.sort()`, on the other hand, is limited to lists. In the interests of making this article as useful as possible, then, we'll use `sorted()` – that way, the techniques we learn will be more widely applicable.\n",
    "\n",
    "## Custom sorting criteria\n",
    "\n",
    "Taking a quick look at [the Python documentation for the `sorted()` function](http://docs.python.org/2/library/functions.html#sorted), we see that there are two options for customizing the sorting criteria. We can either write a function that _transforms_ each element into the value that we want to sort on, or write a function that _compares_ two elements and decides which one should come first.\n",
    "\n",
    "**UPDATE: in Python 3 the second option has been removed, so we can only use `key`**.\n",
    "\n",
    "Let's take a look at the first option. The Python documentation says that we need to write:\n",
    "\n",
    "\" a function of one argument that is used to extract a comparison key from each list element \"\n",
    "\n",
    "and supply it to the `sorted()` function as the optional argument `key`. In our case, we want to sort the sequences by length, so we'll write a very simple function that takes one argument, and returns its length:"
   ]
  },
  {
   "cell_type": "code",
   "execution_count": 4,
   "id": "2959e6df",
   "metadata": {},
   "outputs": [
    {
     "data": {
      "text/plain": [
       "11"
      ]
     },
     "execution_count": 4,
     "metadata": {},
     "output_type": "execute_result"
    }
   ],
   "source": [
    "def get_length(seq):\n",
    "    return len(seq)\n",
    "get_length('ATGATCGTAGC') #returns 11"
   ]
  },
  {
   "cell_type": "markdown",
   "id": "970074f7",
   "metadata": {},
   "source": [
    "Now when we supply this function as the key argument to the `sorted()` function, we get the result we're looking for:   "
   ]
  },
  {
   "cell_type": "code",
   "execution_count": 5,
   "id": "1418d119",
   "metadata": {},
   "outputs": [
    {
     "data": {
      "text/plain": [
       "['ACTGT',\n",
       " 'TATGTGT',\n",
       " 'CATCGTACATGC',\n",
       " 'GCTGATCGTGACTGTAC',\n",
       " 'ATAGCTGATCGTAGCTACGTACGATCG']"
      ]
     },
     "execution_count": 5,
     "metadata": {},
     "output_type": "execute_result"
    }
   ],
   "source": [
    "sorted(seqs, key=get_length)"
   ]
  },
  {
   "cell_type": "markdown",
   "id": "6e0054c3",
   "metadata": {},
   "source": [
    "In fact, we can simplify this considerably – since our `get_length()` function simply calls the built-in `len()` function and returns the result, we can just supply the name of the `len()` function directly, and get the same result:"
   ]
  },
  {
   "cell_type": "code",
   "execution_count": 6,
   "id": "de256d69",
   "metadata": {},
   "outputs": [
    {
     "data": {
      "text/plain": [
       "['ACTGT',\n",
       " 'TATGTGT',\n",
       " 'CATCGTACATGC',\n",
       " 'GCTGATCGTGACTGTAC',\n",
       " 'ATAGCTGATCGTAGCTACGTACGATCG']"
      ]
     },
     "execution_count": 6,
     "metadata": {},
     "output_type": "execute_result"
    }
   ],
   "source": [
    "sorted(seqs, key=len)"
   ]
  },
  {
   "cell_type": "markdown",
   "id": "b15fb1b2",
   "metadata": {},
   "source": [
    "How about the second approach, where we write a function that explicitly tells Python which of two elements should go first? According to the docs, we need to write:\n",
    "\n",
    "\"a custom comparison function of two arguments (iterable elements) which should return a negative, zero or positive number depending on whether the first argument is considered smaller than, equal to, or larger than the second argument.\"\n",
    "\n",
    "The simplest way to do this is probably with a if/elif/else statement:"
   ]
  },
  {
   "cell_type": "code",
   "execution_count": 7,
   "id": "a0f7c866",
   "metadata": {},
   "outputs": [],
   "source": [
    "def compare(seq1, seq2):\n",
    "    if len(seq1) == len(seq2):\n",
    "        return 0\n",
    "    elif len(seq1) > len(seq2):\n",
    "        return 1\n",
    "    else:\n",
    "        return -1    "
   ]
  },
  {
   "cell_type": "markdown",
   "id": "f1bc22ab",
   "metadata": {},
   "source": [
    "and it works just as we'd like:   "
   ]
  },
  {
   "cell_type": "code",
   "execution_count": null,
   "id": "36a9128e",
   "metadata": {},
   "outputs": [],
   "source": [
    "# this won't work in Python 3\n",
    "sorted(seqs, cmp=compare)"
   ]
  },
  {
   "cell_type": "markdown",
   "id": "d401ae00",
   "metadata": {},
   "source": [
    "We can take advantage of the specific wording of the `cmp` function requirements to make this a bit more compact. Notice that our function needs to return a negative or positive number to indicate whether the first argument should before or after the second, but it doesn't actually matter what the negative or positive number is. So we can get the same effect by simply deducting the length of the second sequence from the first;"
   ]
  },
  {
   "cell_type": "code",
   "execution_count": null,
   "id": "c8c487d0",
   "metadata": {},
   "outputs": [],
   "source": [
    "def compare(seq1, seq2):\n",
    "    return len(seq1) - len(seq2)\n",
    "\n",
    "sorted(seqs, cmp=compare)"
   ]
  },
  {
   "cell_type": "markdown",
   "id": "15e96424",
   "metadata": {},
   "source": [
    "Which of the two approaches outlined above is better? I think it's clear for this case that using the `key` argument is a bit more readable, and it also has the advantage of being more efficient – the `key` function is called only once for each element in the list, whereas the `cmp` function is called every time two elements are compared. You'll probably find this to be the case for most instances of custom sorting. One notable exception is the case where we want to sort on two different values. Imagine that we have a collection of DNA sequences which we want to sort by length AND we want sequences of the same length to be sorted alphabetically. In this case, the solution using `cmp` is quite readable – our comparison function first examines the length, and only goes on to look at the alphabetical order if both input sequences are the same length:"
   ]
  },
  {
   "cell_type": "code",
   "execution_count": null,
   "id": "ac7a4ab4",
   "metadata": {},
   "outputs": [],
   "source": [
    "def compare2(seq1, seq2):\n",
    "    # first compare the length\n",
    "    if len(seq1) > len(seq2):\n",
    "        return 1\n",
    "    elif len(seq1) < len(seq2):\n",
    "        return -1\n",
    "\n",
    "    # then compare the sequences alphabetically\n",
    "    elif seq1 > seq2:\n",
    "        return 1\n",
    "    elif seq1 < seq2:\n",
    "        return -1\n",
    "    else:\n",
    "        return 0\n",
    "\n",
    "seqs2 = ['TCCA', 'ATGCGC', 'ACCG',  'CGAT', 'CTGGAA', 'CGG']\n",
    "sorted(seqs2, cmp=compare2)"
   ]
  },
  {
   "cell_type": "markdown",
   "id": "3e6d3d4b",
   "metadata": {},
   "source": [
    "In contrast, the solution using `key` is harder to read – we need to carry out two sorts, first sorting alphabetically (i.e. using the default key) and then sorting by length:"
   ]
  },
  {
   "cell_type": "code",
   "execution_count": 10,
   "id": "f96c8f55",
   "metadata": {},
   "outputs": [
    {
     "data": {
      "text/plain": [
       "['CGG', 'ACCG', 'CGAT', 'TCCA', 'ATGCGC', 'CTGGAA']"
      ]
     },
     "execution_count": 10,
     "metadata": {},
     "output_type": "execute_result"
    }
   ],
   "source": [
    "seqs2 = ['TCCA', 'ATGCGC', 'ACCG',  'CGAT', 'CTGGAA', 'CGG']\n",
    "\n",
    "sorted(sorted(seqs2), key=len)"
   ]
  },
  {
   "cell_type": "markdown",
   "id": "e2e690a3",
   "metadata": {},
   "source": [
    "One final note: because `key` and `cmp` functions are often quite short, they're an ideal candidate for being written as lambda expressions. Consider a situation where we want to sort a collection of DNA sequences by the number of A nucleotides. We could write a function that counts the number of A's, or we could write a lambda expression to calculate the same thing. Here a piece of code showing both approaches:"
   ]
  },
  {
   "cell_type": "code",
   "execution_count": 11,
   "id": "9626c355",
   "metadata": {},
   "outputs": [
    {
     "name": "stdout",
     "output_type": "stream",
     "text": [
      "['CGG', 'TCCA', 'ATGCGC', 'ACCG', 'CGAT', 'CTGGAA']\n",
      "['CGG', 'TCCA', 'ATGCGC', 'ACCG', 'CGAT', 'CTGGAA']\n"
     ]
    }
   ],
   "source": [
    "# using a function\n",
    "def count_a(seq):\n",
    "    return seq.count('A')\n",
    "print(sorted(seqs2, key=count_a))\n",
    "\n",
    "# using a lambda expression\n",
    "print(sorted(seqs2, key=lambda x : x.count('A')))"
   ]
  }
 ],
 "metadata": {
  "kernelspec": {
   "display_name": "Python 3",
   "language": "python",
   "name": "python3"
  },
  "language_info": {
   "codemirror_mode": {
    "name": "ipython",
    "version": 3
   },
   "file_extension": ".py",
   "mimetype": "text/x-python",
   "name": "python",
   "nbconvert_exporter": "python",
   "pygments_lexer": "ipython3",
   "version": "3.8.10"
  }
 },
 "nbformat": 4,
 "nbformat_minor": 5
}
