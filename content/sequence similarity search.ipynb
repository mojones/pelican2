{
 "cells": [
  {
   "cell_type": "markdown",
   "id": "8131ed3d",
   "metadata": {},
   "source": [
    "- title: Simple sequence similarity search\n",
    "- author: Martin\n",
    "- date: 2021-05-11\n",
    "- category: article\n",
    "- tags: python, bioinformatics, DNA\n",
    "- indexpreview: A crucial building block of many bioinformatics processes is similarity search: finding regions that are similar between two biological sequences. Here we will take a look at a very simple approach in Python."
   ]
  },
  {
   "cell_type": "markdown",
   "id": "3ec2991e",
   "metadata": {},
   "source": [
    "## Sequence similarity search\n",
    "\n",
    "A subject of great interest to biologists is the problem of identifying regions of similarity between DNA sequences.  In particular, we are interested in the case where we have a large collection of sequences about which something is known,  and we want to tell which, if any, are similar to a new sequence (this is pretty much the most common use case for BLAST).\n",
    "\n",
    "How can we start to tackle this problem using Python? To start with, we need to define what we mean when we say that two  regions of DNA share similarity. In bioinformatics, we usually accomplish this using a scoring matrix. For each pair of bases in a chunk of  two sequences, we will look up the score in a matrix, and add them all together. Sometimes we include gaps in an alignment, but let's forget  about that for now.\n",
    "\n",
    "Here is a very simple scoring matrix:\n",
    "    \n",
    "    \n",
    "    \n",
    "         A    T    G    C\n",
    "    \n",
    "    A    1   -1   -1   -1\n",
    "    \n",
    "    T    -1   1   -1   -1\n",
    "    \n",
    "    G    -1  -1    1   -1\n",
    "    \n",
    "    C    -1  -1   -1    1\n",
    "    \n",
    "\n",
    "or to put it another way, we score 1 for a match and -1 for a missmatch.\n",
    "\n",
    "Given that we are not using gaps, a 'match' between two sequences is completely described by five pieces of information:\n",
    "\n",
    "* the query sequence\n",
    "* the subject sequence\n",
    "* the start of the match on the query\n",
    "* the start of the match on the subject\n",
    "* the length of the match\n",
    "\n",
    "Note that we are using the standard-ish names for the sequences – **query** is the unknown sequence, and **subject** is the known sequence. These names are completely arbitrary, but using them will (1) avoid the need for inelegant names like 'sequence A' and (2) be more consistent with other programs.\n",
    "\n",
    "So, let's say we have the following two sequences:\n",
    "    \n",
    "    \n",
    "                         1         2\n",
    "               012345678901234567890123\n",
    "    subject = 'actgatcgattgatcgatcgatcg'\n",
    "    query   = 'tttagatcgatctttgatc'\n",
    "    \n",
    "\n",
    "I've added numbers along the top so that we can easily see the positions of individual characters. It is not particularly easy to see by eye, but there is a region of similarity which  is 8 bases long and starts at position 4 on the query and position 7 on the subject. It is easier to spot if we format it slightly differently:\n",
    "    \n",
    "    \n",
    "    \n",
    "    subject = 'actgatcGATTGATCgatcgatcg'\n",
    "    query   =    'tttaGATCGATCtttgatc'\n",
    "    \n",
    "\n",
    "What is the score of this match? There are seven matches and one missmatch, so the total score is six. It's not too tricky to write a Python function to calculate the score:"
   ]
  },
  {
   "cell_type": "code",
   "execution_count": null,
   "id": "0e638e8a",
   "metadata": {},
   "outputs": [],
   "source": [
    "one_sequence = 'actgatcgattgatcgatcgatcg'\n",
    "another_sequence   = 'tttagatcgatctttgatc'\n",
    "\n",
    "# here are the five bits of information we described before\n",
    "def score_match(subject, query, subject_start, query_start, length):\n",
    "    score = 0\n",
    "    # for each base in the match\n",
    "    for i in range(0,length):\n",
    "        # first figure out the matching base from both sequences\n",
    "        subject_base = subject[subject_start + i]\n",
    "        query_base = query[query_start + i]\n",
    "        # then adjust the score up or down depending on \n",
    "        # whether or not they are the same\n",
    "        if subject_base == query_base:\n",
    "            score = score + 1\n",
    "        else:\n",
    "            score = score - 1\n",
    "    return score"
   ]
  },
  {
   "cell_type": "markdown",
   "id": "64166463",
   "metadata": {},
   "source": [
    "Here is the score for the match we were looking at above:"
   ]
  },
  {
   "cell_type": "code",
   "execution_count": 2,
   "id": "ff8d3946",
   "metadata": {},
   "outputs": [
    {
     "data": {
      "text/plain": [
       "6"
      ]
     },
     "execution_count": 2,
     "metadata": {},
     "output_type": "execute_result"
    }
   ],
   "source": [
    "score_match(one_sequence, another_sequence, 7, 4, 8)"
   ]
  },
  {
   "cell_type": "markdown",
   "id": "338e2929",
   "metadata": {},
   "source": [
    "Let's try a few other potential matches:"
   ]
  },
  {
   "cell_type": "code",
   "execution_count": 3,
   "id": "7b30c921",
   "metadata": {},
   "outputs": [
    {
     "name": "stdout",
     "output_type": "stream",
     "text": [
      "2\n",
      "4\n",
      "-1\n"
     ]
    }
   ],
   "source": [
    "# here is the same match but shorter\n",
    "print(score_match(one_sequence, another_sequence, 7, 4, 4))\n",
    "\n",
    "# how about a longer match\n",
    "print(score_match(one_sequence, another_sequence, 7, 4, 12))\n",
    "\n",
    "# and a random match\n",
    "print(score_match(one_sequence, another_sequence, 10, 1, 5))"
   ]
  },
  {
   "cell_type": "markdown",
   "id": "3f28ac86",
   "metadata": {},
   "source": [
    "What if we didn't know about the 'good' match in advance? We need some kind of 'match proposal mechanism' – something that can generate proposed matches which we can then feed into our scoring function and decide whether or not they are good matches. Here is a brute-force approach:\n",
    "    "
   ]
  },
  {
   "cell_type": "code",
   "execution_count": 11,
   "id": "4a69a622",
   "metadata": {},
   "outputs": [],
   "source": [
    "def try_all_matches(subject, query):\n",
    "\n",
    " # try every possible value for subject start and query start\n",
    "    for subject_start in range(0,len(subject)):\n",
    "        for query_start in range(0,len(query)):\n",
    "\n",
    "            # try every possible value for length of match    \n",
    "            # the length can never be longer than the length of the shortest \n",
    "            # input sequence, so it doesn't matter whether we use the query or the subject\n",
    "            for length in range(1,len(query)):\n",
    "\n",
    "                # this will generate lots of proposed matches which go beyond the \n",
    "                # length of one of the input sequences\n",
    "                # so we will only try to score those that fit within the two sequences\n",
    "                if (subject_start + length < len(subject) and query_start + length < len(query)):\n",
    "                    score = score_match(subject, query, subject_start, query_start, length)\n",
    "                    print(subject_start, query_start, length, score)"
   ]
  },
  {
   "cell_type": "markdown",
   "id": "068fb532",
   "metadata": {},
   "source": [
    "This generates a huge amount of output looking like this:\n",
    "\n",
    "```\n",
    "0 0 1 -1\n",
    "0 0 2 -2\n",
    "0 0 3 -1\n",
    "0 0 4 -2\n",
    "0 0 5 -3\n",
    "0 0 6 -4\n",
    "0 0 7 -5\n",
    "0 0 8 -6\n",
    "0 0 9 -7\n",
    "0 0 10 -8\n",
    "```\n",
    "We can see how it's trying every possible combination of starting position and length. Unsurprisingly, the vast majority of the matches are terrible – they score below zero. Let's try a version that only shows us the good matches:"
   ]
  },
  {
   "cell_type": "code",
   "execution_count": 5,
   "id": "a0987f47",
   "metadata": {},
   "outputs": [],
   "source": [
    "def try_all_matches(subject, query, score_limit):\n",
    "    for subject_start in range(0,len(subject)):\n",
    "        for query_start in range(0,len(query)):\n",
    "            for length in range(0,len(query)):\n",
    "                if (subject_start + length < len(subject) and query_start + length < len(query)):\n",
    "                    score = score_match(subject, query, subject_start, query_start, length)\n",
    "                    # only print a line of output if the score is better than some limie\n",
    "                    if (score >= score_limit):\n",
    "                        print(subject_start, query_start, length, score)"
   ]
  },
  {
   "cell_type": "markdown",
   "id": "43047b6c",
   "metadata": {},
   "source": [
    "Here's the output with a `score_limit` of 6 i.e. we only want to see the matches that score at least 6:"
   ]
  },
  {
   "cell_type": "code",
   "execution_count": 6,
   "id": "8763ebdf",
   "metadata": {},
   "outputs": [
    {
     "name": "stdout",
     "output_type": "stream",
     "text": [
      "2 3 8 6\n",
      "3 4 6 6\n",
      "3 4 7 7\n",
      "3 4 8 6\n",
      "4 5 6 6\n",
      "5 2 10 6\n",
      "7 0 12 6\n",
      "7 4 8 6\n",
      "8 1 10 6\n",
      "8 1 11 7\n",
      "8 1 12 6\n",
      "8 1 14 6\n",
      "9 2 8 6\n",
      "9 2 9 7\n",
      "9 2 10 8\n",
      "9 2 11 7\n",
      "9 2 12 6\n",
      "9 2 13 7\n",
      "9 2 14 6\n",
      "10 3 8 6\n",
      "10 3 9 7\n",
      "10 3 10 6\n",
      "10 3 12 6\n",
      "11 0 12 6\n",
      "11 4 6 6\n",
      "11 4 7 7\n",
      "11 4 8 8\n",
      "11 4 9 7\n",
      "11 4 10 6\n",
      "11 4 11 7\n",
      "11 4 12 6\n",
      "12 1 10 6\n",
      "12 1 11 7\n",
      "12 5 6 6\n",
      "12 5 7 7\n",
      "12 5 8 6\n",
      "12 5 10 6\n",
      "13 2 8 6\n",
      "13 2 9 7\n",
      "13 2 10 8\n",
      "13 6 6 6\n",
      "14 3 8 6\n",
      "14 3 9 7\n",
      "15 4 6 6\n",
      "15 4 7 7\n",
      "15 4 8 8\n",
      "16 5 6 6\n",
      "16 5 7 7\n",
      "17 6 6 6\n"
     ]
    }
   ],
   "source": [
    "try_all_matches(one_sequence, another_sequence, 6)"
   ]
  },
  {
   "cell_type": "markdown",
   "id": "89face8b",
   "metadata": {},
   "source": [
    "It is quite tricky to visualise these matches in our heads. Let's write another function who's job is to display a match in a nicely formatted way:"
   ]
  },
  {
   "cell_type": "code",
   "execution_count": 8,
   "id": "5787b335",
   "metadata": {},
   "outputs": [],
   "source": [
    "# the arguments are the five bits of information that define a match\n",
    "def pretty_print_match(subject, query, subject_start, query_start, length):\n",
    "\n",
    "    # first print the start/stop positions for the subject sequence\n",
    "    print(str(subject_start) + (' ' * length) + str(subject_start+length))\n",
    "\n",
    "    # then print the bit of the subject that matches\n",
    "    print(' ' + subject[subject_start:subject_start+length])\n",
    "\n",
    "    # then print the bit of the query that matches\n",
    "    print(' ' + query[query_start:query_start+length])\n",
    "\n",
    "    # finally print the start/stop positions for the query\n",
    "    print(str(query_start) + (' ' * length) + str(query_start+length))\n",
    "\n",
    "    print('\\n--------------------\\n')"
   ]
  },
  {
   "cell_type": "markdown",
   "id": "2884df11",
   "metadata": {},
   "source": [
    "We can pick one of the good matches and visualize it:"
   ]
  },
  {
   "cell_type": "code",
   "execution_count": 9,
   "id": "79a108ed",
   "metadata": {},
   "outputs": [
    {
     "name": "stdout",
     "output_type": "stream",
     "text": [
      "7        15\n",
      " gattgatc\n",
      " gatcgatc\n",
      "4        12\n",
      "\n",
      "--------------------\n",
      "\n"
     ]
    }
   ],
   "source": [
    "pretty_print_match(one_sequence, another_sequence, 7, 4, 8)"
   ]
  },
  {
   "cell_type": "markdown",
   "id": "8d383107",
   "metadata": {},
   "source": [
    "Now we can modify our `try_all_matches()` to get nicely formatted output:"
   ]
  },
  {
   "cell_type": "code",
   "execution_count": 10,
   "id": "e0ff5f15",
   "metadata": {},
   "outputs": [
    {
     "name": "stdout",
     "output_type": "stream",
     "text": [
      "Score : 7\n",
      "3       10\n",
      " gatcgat\n",
      " gatcgat\n",
      "4       11\n",
      "\n",
      "--------------------\n",
      "\n",
      "Score : 7\n",
      "8           19\n",
      " attgatcgatc\n",
      " ttagatcgatc\n",
      "1           12\n",
      "\n",
      "--------------------\n",
      "\n",
      "Score : 7\n",
      "9         18\n",
      " ttgatcgat\n",
      " tagatcgat\n",
      "2         11\n",
      "\n",
      "--------------------\n",
      "\n",
      "Score : 8\n",
      "9          19\n",
      " ttgatcgatc\n",
      " tagatcgatc\n",
      "2          12\n",
      "\n",
      "--------------------\n",
      "\n",
      "Score : 7\n",
      "9           20\n",
      " ttgatcgatcg\n",
      " tagatcgatct\n",
      "2           13\n",
      "\n",
      "--------------------\n",
      "\n",
      "Score : 7\n",
      "9             22\n",
      " ttgatcgatcgat\n",
      " tagatcgatcttt\n",
      "2             15\n",
      "\n",
      "--------------------\n",
      "\n",
      "Score : 7\n",
      "10         19\n",
      " tgatcgatc\n",
      " agatcgatc\n",
      "3         12\n",
      "\n",
      "--------------------\n",
      "\n",
      "Score : 7\n",
      "11       18\n",
      " gatcgat\n",
      " gatcgat\n",
      "4       11\n",
      "\n",
      "--------------------\n",
      "\n",
      "Score : 8\n",
      "11        19\n",
      " gatcgatc\n",
      " gatcgatc\n",
      "4        12\n",
      "\n",
      "--------------------\n",
      "\n",
      "Score : 7\n",
      "11         20\n",
      " gatcgatcg\n",
      " gatcgatct\n",
      "4         13\n",
      "\n",
      "--------------------\n",
      "\n",
      "Score : 7\n",
      "11           22\n",
      " gatcgatcgat\n",
      " gatcgatcttt\n",
      "4           15\n",
      "\n",
      "--------------------\n",
      "\n",
      "Score : 7\n",
      "12           23\n",
      " atcgatcgatc\n",
      " ttagatcgatc\n",
      "1           12\n",
      "\n",
      "--------------------\n",
      "\n",
      "Score : 7\n",
      "12       19\n",
      " atcgatc\n",
      " atcgatc\n",
      "5       12\n",
      "\n",
      "--------------------\n",
      "\n",
      "Score : 7\n",
      "13         22\n",
      " tcgatcgat\n",
      " tagatcgat\n",
      "2         11\n",
      "\n",
      "--------------------\n",
      "\n",
      "Score : 8\n",
      "13          23\n",
      " tcgatcgatc\n",
      " tagatcgatc\n",
      "2          12\n",
      "\n",
      "--------------------\n",
      "\n",
      "Score : 7\n",
      "14         23\n",
      " cgatcgatc\n",
      " agatcgatc\n",
      "3         12\n",
      "\n",
      "--------------------\n",
      "\n",
      "Score : 7\n",
      "15       22\n",
      " gatcgat\n",
      " gatcgat\n",
      "4       11\n",
      "\n",
      "--------------------\n",
      "\n",
      "Score : 8\n",
      "15        23\n",
      " gatcgatc\n",
      " gatcgatc\n",
      "4        12\n",
      "\n",
      "--------------------\n",
      "\n",
      "Score : 7\n",
      "16       23\n",
      " atcgatc\n",
      " atcgatc\n",
      "5       12\n",
      "\n",
      "--------------------\n",
      "\n"
     ]
    }
   ],
   "source": [
    "def try_all_matches(subject, query, score_limit):\n",
    "    for subject_start in range(0,len(subject)):\n",
    "        for query_start in range(0,len(query)):\n",
    "            for length in range(0,len(query)):\n",
    "                if (subject_start + length < len(subject) and query_start + length < len(query)):\n",
    "                    score = score_match(subject, query, subject_start, query_start, length)\n",
    "                    # only print a line of output if the score is better than some limie\n",
    "                    if (score >= score_limit):\n",
    "                        print('Score : ' + str(score))\n",
    "                        pretty_print_match(subject, query, subject_start, query_start, length)\n",
    "    \n",
    "try_all_matches(one_sequence, another_sequence, 7)"
   ]
  },
  {
   "cell_type": "markdown",
   "id": "0066effb",
   "metadata": {},
   "source": [
    "## A new proposal mechanism\n",
    "\n",
    "Now we have a few nice building blocks to play around with. `try_all_matches()` generates potential matches and uses `score_match()` to calculate the score. If the score is good enough, it then uses `pretty_print_match()` to print a result. We can now alter the behaviour of our program by replacing `try_all_matches()` with something a bit more sophisticated, and using the other two  functions as before. We will steal some ideas from a program that you might have heard of called BLAST :-)\n",
    "\n",
    "## How does BLAST work?\n",
    "\n",
    "Rather than using a brute-force approach to consider all possible matches between two sequences, BLAST first identifies short regions ('seeds') of high similarity between the two sequences by splitting both sequences into short 'words' of a fixed size and looking for words that are shared between both sequences. It then tries to extend each seed in both directions, stopping when the score of the match falls below some threshold. Let's try to express this procedure in a slightly more rigorous way:\n",
    "\n",
    "* split the subject sequence up into words and record the position of each one\n",
    "* split the query sequence up into words and for each word do the following: \n",
    "* look at the list of positions to see if the same word occurs in the subject sequence\n",
    "* if so, then for each matching position on the subject sequence do the following: \n",
    "* extend the match on the right end by one base\n",
    "* check the score of the new, extended match\n",
    "* extend the match on the left end and check the score again\n",
    "* keep extending the match in this way, alternating left and right, until the score drops below the threshold, then stop and report the match\n",
    "\n",
    "This is simpler than BLAST, but it will do for a start! Implementing this idea is left as an exercise for now; I'll drop an update here if I write a solution. "
   ]
  }
 ],
 "metadata": {
  "kernelspec": {
   "display_name": "teaching",
   "language": "python",
   "name": "teaching"
  },
  "language_info": {
   "codemirror_mode": {
    "name": "ipython",
    "version": 3
   },
   "file_extension": ".py",
   "mimetype": "text/x-python",
   "name": "python",
   "nbconvert_exporter": "python",
   "pygments_lexer": "ipython3",
   "version": "3.8.10"
  }
 },
 "nbformat": 4,
 "nbformat_minor": 5
}
