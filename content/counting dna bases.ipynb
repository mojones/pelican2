{
 "cells": [
  {
   "cell_type": "markdown",
   "id": "2bb58e61",
   "metadata": {},
   "source": [
    "- title: Counting non-DNA bases in a sequence\n",
    "- author: Martin\n",
    "- date: 2021-05-11\n",
    "- category: article\n",
    "- tags: python, programming, DNA"
   ]
  },
  {
   "cell_type": "markdown",
   "id": "7081791b",
   "metadata": {},
   "source": [
    "# How to count non-DNA bases in a sequence using Python\n",
    "\n",
    "I noticed recently that two particular questions are popping up quite regularly in my search logs: \"how to count non-DNA bases in a sequence\" and \"how to tell if a sequence contains DNA\" (presumably as opposed to protein). It struck me that the second question is really a special case of the first – once we have a way to count the number of DNA bases in a sequence, we can simply apply a rule that if more than 80% (or any other number we choose) of bases in a sequence are A,T,G or C, then it is probably DNA.\n",
    "\n",
    "Let's start with the simplest thing that we think will work – we'll simply count the number of A, T, G and C characters in a sequence, then divide by the length and multiply by 100 to get a percentage. For this example I'm using a DNA sequence that has three non-ATGC characters: one each of N, Y and R. I've included the division fix at the start of the code in case you want to run this on Python 2:"
   ]
  },
  {
   "cell_type": "code",
   "execution_count": 2,
   "id": "f2fed1bb",
   "metadata": {},
   "outputs": [
    {
     "name": "stdout",
     "output_type": "stream",
     "text": [
      "84.21052631578947\n"
     ]
    }
   ],
   "source": [
    "from __future__ import division\n",
    "seq = \"ACTNGTGCTYGATRGTAGC\"\n",
    "dna_count = seq.count(\"A\") + seq.count(\"T\") + seq.count(\"G\") + seq.count(\"C\")\n",
    "dna_fraction = dna_count / len(seq)\n",
    "print(dna_fraction * 100)"
   ]
  },
  {
   "cell_type": "markdown",
   "id": "5b8d553a",
   "metadata": {},
   "source": [
    "However, in some circumstances, we might want to allow characters other than A,T,G and C in our DNA sequences. Take a look at this table showing the set of standard IUPAC ambiguity codes:\n",
    "    \n",
    "    \n",
    "    Nucleotide Code:  Base:\n",
    "    ----------------  -----\n",
    "    A.................Adenine\n",
    "    C.................Cytosine\n",
    "    G.................Guanine\n",
    "    T (or U)..........Thymine (or Uracil)\n",
    "    R.................A or G\n",
    "    Y.................C or T\n",
    "    S.................G or C\n",
    "    W.................A or T\n",
    "    K.................G or T\n",
    "    M.................A or C\n",
    "    B.................C or G or T\n",
    "    D.................A or G or T\n",
    "    H.................A or C or T\n",
    "    V.................A or C or G\n",
    "    N.................any base\n",
    "    . or -............gap\n",
    "\n",
    "Depending on which subset of these we want to allow, we might want to count as many as sixteen different characters. Rather than cram sixteen different calls to `count()` into one line, it's probably better to loop through the allowed characters and build up the count one at a time. Here's a bit of code to do that, using a list to define the set of allowed characters. For this example I'm allowing the four standard bases plus purines (R) and pyrimidines (Y):\n",
    "    "
   ]
  },
  {
   "cell_type": "code",
   "execution_count": 3,
   "id": "d9ad85af",
   "metadata": {},
   "outputs": [
    {
     "name": "stdout",
     "output_type": "stream",
     "text": [
      "94.73684210526315\n"
     ]
    }
   ],
   "source": [
    "from __future__ import division\n",
    "seq = \"ACTNGTGCTYGATRGTAGC\"\n",
    "allowed_bases = [\"A\", \"T\", \"G\", \"C\", \"Y\", \"R\"]\n",
    "total_dna_bases = 0\n",
    "for base in allowed_bases:\n",
    "    total_dna_bases = total_dna_bases + seq.count(base)\n",
    "dna_fraction = total_dna_bases / len(seq)\n",
    "print(dna_fraction * 100)"
   ]
  },
  {
   "cell_type": "markdown",
   "id": "e06bad03",
   "metadata": {},
   "source": [
    "As expected, the answer is higher than in our first example because we are now counting the R and Y as DNA bases.\n",
    "\n",
    "This seems like a perfect bit of code to turn into a function. We'll make the DNA sequence and the list of allowed bases into function arguments, and use a sensible default of counting just ATGC characters."
   ]
  },
  {
   "cell_type": "code",
   "execution_count": 5,
   "id": "f061e3d1",
   "metadata": {},
   "outputs": [],
   "source": [
    "def count_dna(seq, allowed_bases=['A','T','G','C']):\n",
    "    seq = seq.upper()\n",
    "    total_dna_bases = 0\n",
    "    for base in allowed_bases:\n",
    "        total_dna_bases = total_dna_bases + seq.count(base.upper())\n",
    "    dna_fraction = total_dna_bases / len(seq)\n",
    "    return(dna_fraction * 100)"
   ]
  },
  {
   "cell_type": "markdown",
   "id": "408b6f8e",
   "metadata": {},
   "source": [
    "Notice how we've changed both the input sequence and the allowed bases to upper case, to make sure that the function will work regardless of the case of the inputs. Here are a few quick tests:"
   ]
  },
  {
   "cell_type": "code",
   "execution_count": 6,
   "id": "50bf2c25",
   "metadata": {},
   "outputs": [
    {
     "name": "stdout",
     "output_type": "stream",
     "text": [
      "86.36363636363636\n",
      "90.9090909090909\n",
      "86.36363636363636\n"
     ]
    }
   ],
   "source": [
    "print(count_dna(\"ACTRGATCYGATCGANTCGATG\"))\n",
    "print(count_dna(\"ACTRGATCYGATCGANTCGATG\", ['A','T','C','G','N']))\n",
    "print(count_dna(\"actgratcygtganctttgacg\"))"
   ]
  },
  {
   "cell_type": "markdown",
   "id": "40fd4825",
   "metadata": {},
   "source": [
    "Having written this function, it's pretty straightforward to define a function to test if a sequence is DNA. To make the function as flexible as possible, we'll assign sensible defaults to both the allowed bases and the minimum percentage of bases that must match. We'll pass the input sequence and the list of allowed bases through to the `count_dna()` function, and then compare the result of that call to the minimum. Here's the function along with a couple of lines to test it:"
   ]
  },
  {
   "cell_type": "code",
   "execution_count": 10,
   "id": "fc22b84c",
   "metadata": {},
   "outputs": [
    {
     "name": "stdout",
     "output_type": "stream",
     "text": [
      "True\n",
      "False\n",
      "True\n"
     ]
    }
   ],
   "source": [
    "def is_dna(seq, allowed_bases=['A','T','G','C'], minimum=80):\n",
    "    return count_dna(seq, allowed_bases) > minimum\n",
    "\n",
    "print(is_dna(\"ACTRGATCYGATCGANTCGATG\"))\n",
    "print(is_dna(\"ACTRGATCYGATCGANTCGATG\", minimum=90))\n",
    "print(is_dna(\"ACTRGATCYGATCGANTCGATG\", minimum=90, allowed_bases=['A','T','G','C','R','Y']))"
   ]
  },
  {
   "cell_type": "markdown",
   "id": "b81a0674",
   "metadata": {},
   "source": [
    "As you can see, the function is very concise – we simply ask whether the percentage of DNA bases returned by our earlier function is greater than the minimum, and return the result. As the output shows, we can make the test more stringent by increasing the minimum, or more lenient by allowing some ambiguous bases.\n",
    "\n",
    "Another, much more concise way to write the counting function would be to use a list comprehension to select just the characters that are in some group:\n",
    "\n",
    "```python\n",
    "total_count = len([b for b in seq if b in allowed_bases])\n",
    "```\n",
    "    \n",
    "\n",
    "  "
   ]
  }
 ],
 "metadata": {
  "kernelspec": {
   "display_name": "Python 3",
   "language": "python",
   "name": "python3"
  },
  "language_info": {
   "codemirror_mode": {
    "name": "ipython",
    "version": 3
   },
   "file_extension": ".py",
   "mimetype": "text/x-python",
   "name": "python",
   "nbconvert_exporter": "python",
   "pygments_lexer": "ipython3",
   "version": "3.8.10"
  }
 },
 "nbformat": 4,
 "nbformat_minor": 5
}
