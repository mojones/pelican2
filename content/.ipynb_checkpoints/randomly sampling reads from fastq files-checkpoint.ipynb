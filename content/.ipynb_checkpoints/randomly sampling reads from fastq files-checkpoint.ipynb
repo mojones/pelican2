{
 "cells": [
  {
   "cell_type": "markdown",
   "id": "2ac34e5d",
   "metadata": {},
   "source": [
    "- title: Randomly sampling reads from a FASTQ file\n",
    "- author: Martin\n",
    "- date: 2021-05-11\n",
    "- category: article\n",
    "- tags: python, bioinformatics, FASTQ"
   ]
  },
  {
   "cell_type": "markdown",
   "id": "10358307",
   "metadata": {},
   "source": [
    "**Attention readers: this article is about how to write a Python program to randomly sample reads from a FASTQ file. If you just want to run the program, [save it from this link](https://raw.githubusercontent.com/mojones/random_scripts/14218de511d24b6450df4dc98ca15752626b6797/sample_fastq.py) and run it with -h to view usage. Alternatively, use one of the [many](http://homes.cs.washington.edu/~dcjones/fastq-tools/) [other](http://seqanswers.com/forums/showthread.php?t=16505) [tools](http://www-huber.embl.de/users/anders/HTSeq/doc/tour.html) which perform this job, and were probably not written in an afternoon as an example.&nbsp;**\n",
    "\n",
    "**If you're interested in how to write such a program yourself, then read on…**\n",
    "\n",
    "A common task in bioinformatics is to take a data file – here we're looking at next-generation sequencing reads in FASTQ format – and generate random samples from it. Let's say we want to sample 10% of the reads from a given file. Here's one way of doing it – we can take advantage of the fact that each FASTQ record is exactly four lines long and grab four lines at a time, and only write them to the output if the number of records we've seen is an exact multiple of 10:"
   ]
  },
  {
   "cell_type": "code",
   "execution_count": null,
   "id": "e26c2c75",
   "metadata": {},
   "outputs": [],
   "source": [
    "record_number = 0\n",
    "with open(\"test.fastq\") as input:\n",
    "    with open(\"sample.fastq\", \"w\") as output:\n",
    "        for line1 in input:\n",
    "            line2 = input.next()\n",
    "            line3 = input.next()\n",
    "            line4 = input.next()\n",
    "            if record_number % 10 == 0:\n",
    "                    output.write(line1)\n",
    "                    output.write(line2)\n",
    "                    output.write(line3)\n",
    "                    output.write(line4)\n",
    "            record_number += 1"
   ]
  },
  {
   "cell_type": "markdown",
   "id": "0b268d4a",
   "metadata": {},
   "source": [
    "This works pretty well – on a test file containing 10 million FASTQ records it runs in about two minutes on my computer, with no particular attempt at optimization. An obvious problem with this code is that we're going to get exactly the same 10% of reads every time we run it, and for some types of analysis we'd like to be able to generate a bunch of random 10% samples. To do this we need to change the logic of our code a bit; rather than looking at the record number to decide whether or not to write a given read to the output file, we'll pick a random number between 0 and 9 and write the file if it's equal to zero:"
   ]
  },
  {
   "cell_type": "code",
   "execution_count": null,
   "id": "e48d224a",
   "metadata": {},
   "outputs": [],
   "source": [
    "import random\n",
    "\n",
    "with open(\"test.fastq\") as input:\n",
    "    with open(\"sample.fastq\", \"w\") as output:\n",
    "        for line1 in input:\n",
    "            line2 = input.next()\n",
    "            line3 = input.next()\n",
    "            line4 = input.next()\n",
    "            if random.randrange(0,10) == 0:\n",
    "                    output.write(line1)\n",
    "                    output.write(line2)\n",
    "                    output.write(line3)\n",
    "                    output.write(line4)\n"
   ]
  },
  {
   "cell_type": "markdown",
   "id": "ed85c5f8",
   "metadata": {},
   "source": [
    "This actually slows things down quite a bit – this version of the code takes twice as long to run, as generating random numbers is relatively computationally expensive.\n",
    "\n",
    "This version lets us easily extend the idea for any sample size – for each record we will pick a number between 1 and 100 and if it's less than our sample percent, then we write the record to the output file:"
   ]
  },
  {
   "cell_type": "code",
   "execution_count": null,
   "id": "445a3afc",
   "metadata": {},
   "outputs": [],
   "source": [
    "import random\n",
    "\n",
    "percent = 35\n",
    "with open(\"test.fastq\") as input:\n",
    "    with open(\"sample.fastq\", \"w\") as output:\n",
    "        for line1 in input:\n",
    "            line2 = input.next()\n",
    "            line3 = input.next()\n",
    "            line4 = input.next()\n",
    "            if random.randrange(1,101) <= percent:\n",
    "                    output.write(line1)\n",
    "                    output.write(line2)\n",
    "                    output.write(line3)\n",
    "                    output.write(line4)"
   ]
  },
  {
   "cell_type": "markdown",
   "id": "8fc7e8ea",
   "metadata": {},
   "source": [
    "This will do nicely for when we want to sample a given **proportion** of reads from our file, but what about when we need to sample a given **number** of reads? The easiest thing to do is probably to add a pre-processing step where we count the number of lines in the file and divide by four to get the number of records, then turn that into a percentage to use in our existing code: \n"
   ]
  },
  {
   "cell_type": "code",
   "execution_count": null,
   "id": "f45849bf",
   "metadata": {},
   "outputs": [],
   "source": [
    "import random\n",
    "\n",
    "number_to_sample = 3000000\n",
    "\n",
    "# first calculate the number of records\n",
    "with open(\"test.fastq\") as input:\n",
    "    num_lines = sum([1 for line in input])\n",
    "total_records = int(num_lines / 4)\n",
    "print(\"sampling \" + str(number_to_sample) + \" out of \" + str(total_records) + \" records\")\n",
    "\n",
    "# figure out what percentage of records to keep\n",
    "percent = (number_to_sample / total_records) * 100\n",
    "print(\"sampling \" + str(percent) + \" % of records\")\n",
    "\n",
    "# same code as before\n",
    "with open(\"test.fastq\") as input:\n",
    "    with open(\"sample.fastq\", \"w\") as output:\n",
    "        for line1 in input:\n",
    "            line2 = input.next()\n",
    "            line3 = input.next()\n",
    "            line4 = input.next()\n",
    "            if random.randrange(1,101) &lt;= percent:\n",
    "                    output.write(line1)\n",
    "                    output.write(line2)\n",
    "                    output.write(line3)\n",
    "                    output.write(line4)"
   ]
  },
  {
   "cell_type": "markdown",
   "id": "bffb4b63",
   "metadata": {},
   "source": [
    "This code works but has a pretty severe limitation; because `random.randrange()` only returns integers it can't deal correctly with situations where the correct percentage is not an integer. To fix this, we could express the proportion of reads to keep as a decimal and switch from using `randrange()` to `random()`, which returns a floating point number. However, this might still run into problems with floating point accuracy. A neater way to do it might be to use `random.sample()` to pick which records to keep after counting the total number, then just compare each record to that list. Storing the list of record numbers to keep as a set allows for rapid lookup:"
   ]
  },
  {
   "cell_type": "code",
   "execution_count": null,
   "id": "d682c66c",
   "metadata": {},
   "outputs": [],
   "source": [
    "import random\n",
    "\n",
    "number_to_sample = 3000000\n",
    "\n",
    "# count the number of records \n",
    "with open(\"test.fastq\") as input:\n",
    "    num_lines = sum([1 for line in input])\n",
    "total_records = int(num_lines / 4)\n",
    "print(\"sampling \" + str(number_to_sample) + \" out of \" + str(total_records) + \" records\")\n",
    "\n",
    "# precalculate a list of record numbers to keep\n",
    "records_to_keep = set(random.sample(xrange(total_records + 1), number_to_sample))\n",
    "\n",
    "# grab the selected records from the file\n",
    "record_number = 0\n",
    "with open(\"test.fastq\") as input:\n",
    "    with open(\"sample.fastq\", \"w\") as output:\n",
    "        for line1 in input:\n",
    "            line2 = input.next()\n",
    "            line3 = input.next()\n",
    "            line4 = input.next()\n",
    "            if record_number in records_to_keep:\n",
    "                    output.write(line1)\n",
    "                    output.write(line2)\n",
    "                    output.write(line3)\n",
    "                    output.write(line4)\n",
    "            record_number += 1\n"
   ]
  },
  {
   "cell_type": "markdown",
   "id": "db112663",
   "metadata": {},
   "source": [
    "This version of the code works to sample any number of records, and as a bonus is much quicker (at the expense of memory) since it only has to generate one random number per output sequence, rather than one random number per input sequence as in the earlier versions.\n",
    "\n",
    "If we're planning on using this program to create multiple samples of records from a single file, then there's one more refinement we might want to make. Rather than simply running the program multiple times, we can create a bunch of output files in a single pass, meaning that we only have to count the number of lines in the input file once, and iterate over the input file once. Here we use a list to store the output file objects, and another list to store the sets of selected records for each output file:"
   ]
  },
  {
   "cell_type": "code",
   "execution_count": null,
   "id": "88fdd891",
   "metadata": {},
   "outputs": [],
   "source": [
    "import random\n",
    "\n",
    "number_to_sample = 3000000\n",
    "number_of_replicates = 10\n",
    "\n",
    "# count total number of lines\n",
    "with open(\"test.fastq\") as input:\n",
    "    num_lines = sum([1 for line in input])\n",
    "total_records = int(num_lines / 4)\n",
    "print(\"sampling \" + str(number_to_sample) + \" out of \" + str(total_records) + \" records\")\n",
    "\n",
    "# set up lists to hold files and (different) sets of records to keep\n",
    "output_files = []\n",
    "output_sequence_sets = []\n",
    "for i in range(number_of_replicates):\n",
    "    output_files.append(open(\"sample.fastq.\" + str(i), \"w\"))\n",
    "    output_sequence_sets.append(set(random.sample(xrange(total_records + 1), number_to_sample)))\n",
    "\n",
    "# write the selected records to each replicate file\n",
    "record_number = 0\n",
    "with open(\"test.fastq\") as input:\n",
    "        for line1 in input:\n",
    "            line2 = input.next()\n",
    "            line3 = input.next()\n",
    "            line4 = input.next()\n",
    "            for i, output in enumerate(output_files):\n",
    "                if record_number in output_sequence_sets[i]:\n",
    "                        output.write(line1)\n",
    "                        output.write(line2)\n",
    "                        output.write(line3)\n",
    "                        output.write(line4)\n",
    "                record_number += 1\n",
    "\n",
    "for output in output_files:\n",
    "    output.close()"
   ]
  },
  {
   "cell_type": "markdown",
   "id": "e0fccfb9",
   "metadata": {},
   "source": [
    "[Here's a link to a slight tidied-up version](https://raw.githubusercontent.com/mojones/random_scripts/14218de511d24b6450df4dc98ca15752626b6797/sample_fastq.py) of the code with a minimal user interface to make running it a bit more pleasant. Interested in learning how to write tools like this yourself? [Check out the online course](/python-for-biologists-online-course) to get started. "
   ]
  }
 ],
 "metadata": {
  "kernelspec": {
   "display_name": "Python 3",
   "language": "python",
   "name": "python3"
  },
  "language_info": {
   "codemirror_mode": {
    "name": "ipython",
    "version": 3
   },
   "file_extension": ".py",
   "mimetype": "text/x-python",
   "name": "python",
   "nbconvert_exporter": "python",
   "pygments_lexer": "ipython3",
   "version": "3.8.10"
  }
 },
 "nbformat": 4,
 "nbformat_minor": 5
}
